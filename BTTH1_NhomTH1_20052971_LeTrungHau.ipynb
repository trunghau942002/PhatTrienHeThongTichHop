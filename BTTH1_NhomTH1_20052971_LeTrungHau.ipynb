{
 "cells": [
  {
   "cell_type": "markdown",
   "metadata": {},
   "source": [
    "# Họ và tên: Lê Trung Hậu  \n",
    "# MSSV: 20052971\n",
    "# Lớp học phần - Nhóm TH:DHCNTT16B - Nhóm 1"
   ]
  },
  {
   "cell_type": "markdown",
   "metadata": {},
   "source": [
    "# 1. Hello world!"
   ]
  },
  {
   "cell_type": "code",
   "execution_count": 1,
   "metadata": {},
   "outputs": [
    {
     "name": "stdout",
     "output_type": "stream",
     "text": [
      "Hello world!\n"
     ]
    }
   ],
   "source": [
    "print (\"Hello world!\")"
   ]
  },
  {
   "cell_type": "markdown",
   "metadata": {},
   "source": [
    "# 2. Program to Add Two Numbers"
   ]
  },
  {
   "cell_type": "markdown",
   "metadata": {},
   "source": [
    "## Add Two Numbers"
   ]
  },
  {
   "cell_type": "code",
   "execution_count": 2,
   "metadata": {},
   "outputs": [
    {
     "name": "stdout",
     "output_type": "stream",
     "text": [
      "7.8\n"
     ]
    }
   ],
   "source": [
    "num1 = 1.5\n",
    "num2 = 6.3\n",
    "### START CODE HERE ### \n",
    "# Add two numbers\n",
    "sum = num1 + num2\n",
    "# Display the sum\n",
    "print(sum)"
   ]
  },
  {
   "cell_type": "markdown",
   "metadata": {},
   "source": [
    "##  Add Two Numbers With User Input"
   ]
  },
  {
   "cell_type": "code",
   "execution_count": 5,
   "metadata": {},
   "outputs": [
    {
     "name": "stdout",
     "output_type": "stream",
     "text": [
      "Tổng của 45.0 và 34.0 là: 79.0\n"
     ]
    }
   ],
   "source": [
    "# Store input numbers\n",
    "num1 = float(input(\"Nhập số thứ nhất: \"))  \n",
    "num2 = float(input(\"Nhập số thứ hai: \"))\n",
    "# Add two numbers\n",
    "tong = num1 + num2\n",
    "# Display the sum\n",
    "print(f\"Tổng của {num1} và {num2} là: {tong}\")"
   ]
  },
  {
   "cell_type": "markdown",
   "metadata": {},
   "source": [
    "# 3. Program to Find the Square Root"
   ]
  },
  {
   "cell_type": "code",
   "execution_count": 12,
   "metadata": {},
   "outputs": [
    {
     "name": "stdout",
     "output_type": "stream",
     "text": [
      "Căn bậc hai của 9.0 là: 3.0\n"
     ]
    }
   ],
   "source": [
    "# Import the math module\n",
    "import math\n",
    "# Note: change this value for a different result\n",
    "num = 8\n",
    "# To take the input from the user\n",
    "num = float(input('Enter a number: '))\n",
    "# Calculate the square root\n",
    "sqrt_value = math.sqrt(num)\n",
    "# Print the value of the square root\n",
    "print(f\"Căn bậc hai của {num} là: {sqrt_value}\")\n"
   ]
  },
  {
   "cell_type": "markdown",
   "metadata": {},
   "source": [
    "# 4. Program to Calculate the Area of a Triangle\n",
    "s = (a+b+c)/2\n",
    "\n",
    "area = √(s(s-a)*(s-b)*(s-c))"
   ]
  },
  {
   "cell_type": "code",
   "execution_count": 10,
   "metadata": {},
   "outputs": [
    {
     "name": "stdout",
     "output_type": "stream",
     "text": [
      "Diện tích tam giác là 6.00\n"
     ]
    }
   ],
   "source": [
    "### START CODE HERE ### \n",
    "# take inputs from the user\n",
    "a = float(input(\"Độ dài cạnh a: \"))\n",
    "b = float(input(\"Độ dài cạnh b: \"))\n",
    "c = float(input(\"Độ dài cạnh c: \"))\n",
    "# calculate the semi-perimeter\n",
    "s = (a + b + c) / 2\n",
    "area = (s * (s - a) * (s - b) * (s - c)) ** 0.5\n",
    "print('Diện tích tam giác là %0.2f' % area)"
   ]
  },
  {
   "cell_type": "markdown",
   "metadata": {},
   "source": [
    "# 5. Program to Solve Quadratic Equation\n",
    "ax2 + bx + c = 0, where a, b and c are real numbers and a ≠ 0"
   ]
  },
  {
   "cell_type": "code",
   "execution_count": 2,
   "metadata": {},
   "outputs": [
    {
     "name": "stdout",
     "output_type": "stream",
     "text": [
      "The solutions are (-0.7-0.8426149773176359j) and (-0.7+0.8426149773176359j)\n"
     ]
    }
   ],
   "source": [
    "import cmath\n",
    "# take inputs from the user\n",
    "a = float(input(\"Enter the value of coefficient a: \"))\n",
    "b = float(input(\"Enter the value of coefficient b: \"))\n",
    "c = float(input(\"Enter the value of coefficient c: \"))\n",
    "# calculate the discriminant\n",
    "d = (b**2) - (4*a*c)\n",
    "# find two solutions using the quadratic formula\n",
    "sol1 = (-b - cmath.sqrt(d)) / (2*a)\n",
    "sol2 = (-b + cmath.sqrt(d)) / (2*a)\n",
    "print('The solutions are {0} and {1}'.format(sol1, sol2))"
   ]
  },
  {
   "cell_type": "markdown",
   "metadata": {},
   "source": [
    "# 6. Program to Swap Two Variables"
   ]
  },
  {
   "cell_type": "code",
   "execution_count": 9,
   "metadata": {},
   "outputs": [
    {
     "name": "stdout",
     "output_type": "stream",
     "text": [
      "Sau khi hoán đổi:\n",
      "x = 7\n",
      "y = 3\n"
     ]
    }
   ],
   "source": [
    "# Take inputs from the user\n",
    "x = input(\"Enter x: \")\n",
    "y = input(\"Enter y: \")\n",
    "# Create a temporary variable and swap the values\n",
    "temp = x\n",
    "x = y\n",
    "y = temp\n",
    "# Print the values of x and y after swapping\n",
    "print(\"Sau khi hoán đổi:\")\n",
    "print(\"x =\", x)\n",
    "print(\"y =\", y)"
   ]
  },
  {
   "cell_type": "code",
   "execution_count": 8,
   "metadata": {},
   "outputs": [
    {
     "name": "stdout",
     "output_type": "stream",
     "text": [
      "Địa chỉ bộ nhớ của x: 140712944635232\n",
      "Địa chỉ bộ nhớ của y: 140712944635176\n",
      "Địa chỉ bộ nhớ tạm thời: 140712944635176\n"
     ]
    }
   ],
   "source": [
    "# Get the memory addresses of x, y, and temp\n",
    "x_address = id(x)\n",
    "y_address = id(y)\n",
    "temp_address = id(temp)\n",
    "# Print the memory addresses\n",
    "print(f\"Địa chỉ bộ nhớ của x: {x_address}\")\n",
    "print(f\"Địa chỉ bộ nhớ của y: {y_address}\")\n",
    "print(f\"Địa chỉ bộ nhớ tạm thời: {temp_address}\")"
   ]
  },
  {
   "cell_type": "markdown",
   "metadata": {},
   "source": [
    "# 7. Program to Generate a Random Number\n",
    "https://docs.python.org/3/library/random.html"
   ]
  },
  {
   "cell_type": "code",
   "execution_count": 14,
   "metadata": {},
   "outputs": [
    {
     "name": "stdout",
     "output_type": "stream",
     "text": [
      "3\n",
      "8\n",
      "5\n",
      "0.42628962171074825\n",
      "3.308899766644764\n"
     ]
    }
   ],
   "source": [
    "# Program to generate a random number between 0 and 9\n",
    "\n",
    "# importing the random module\n",
    "import random\n",
    "print(random.randint(0,9))\n",
    "# Uncomment to try different function in random module\n",
    "print(random.randrange(9))\n",
    "print(random.randrange(3,9))\n",
    "print(random.random())\n",
    "print(random.uniform(a,b))"
   ]
  },
  {
   "cell_type": "markdown",
   "metadata": {},
   "source": [
    "# 8. Program to Convert Kilometers to Miles\n",
    "1 km = (1/1.609344) mi = 0.62137119 mi"
   ]
  },
  {
   "cell_type": "code",
   "execution_count": 16,
   "metadata": {},
   "outputs": [
    {
     "name": "stdout",
     "output_type": "stream",
     "text": [
      "56.00 kilometers is equal to 34.80 miles\n"
     ]
    }
   ],
   "source": [
    "# Taking kilometers input from the user\n",
    "kilometers = float(input(\"Enter value in kilometers: \"))\n",
    "\n",
    "# conversion factor\n",
    "conv_fac = 0.621371\n",
    "\n",
    "# calculate miles\n",
    "miles = kilometers * conv_fac\n",
    "print('%0.2f kilometers is equal to %0.2f miles' %(kilometers,miles))"
   ]
  },
  {
   "cell_type": "code",
   "execution_count": 20,
   "metadata": {},
   "outputs": [
    {
     "name": "stdout",
     "output_type": "stream",
     "text": [
      "34.0 KM bằng 21.126620459999998 miles\n"
     ]
    }
   ],
   "source": [
    "### START CODE HERE ### \n",
    "kilometers = float(input(\"Enter KM: \"))\n",
    "\n",
    "# KM sang dặm\n",
    "conversion_factor = 0.62137119\n",
    "\n",
    "miles = kilometers * conversion_factor\n",
    "### END CODE HERE ###\n",
    "print(f\"{kilometers} KM bằng {miles} miles\")\n"
   ]
  },
  {
   "cell_type": "markdown",
   "metadata": {},
   "source": [
    "# 9. Program to Convert Celsius To Fahrenheit\n",
    "# T(°F) = T(°C) × 1.8 + 32"
   ]
  },
  {
   "cell_type": "code",
   "execution_count": 22,
   "metadata": {},
   "outputs": [
    {
     "name": "stdout",
     "output_type": "stream",
     "text": [
      "34.0 độ C bằng 93.2 độ F\n"
     ]
    }
   ],
   "source": [
    "### START CODE HERE ### \n",
    "# Taking Celsius input from the user\n",
    "celsius = float(input(\"Enter độ C: \"))\n",
    "# Conversion factor\n",
    "conversion_factor = 1.8\n",
    "# Calculate Fahrenheit\n",
    "fahrenheit = (celsius * conversion_factor) + 32\n",
    "# Print the result\n",
    "print(f\"{celsius} độ C bằng {fahrenheit} độ F\")\n",
    "### END CODE HERE ###"
   ]
  }
 ],
 "metadata": {
  "kernelspec": {
   "display_name": "Python 3",
   "language": "python",
   "name": "python3"
  },
  "language_info": {
   "codemirror_mode": {
    "name": "ipython",
    "version": 3
   },
   "file_extension": ".py",
   "mimetype": "text/x-python",
   "name": "python",
   "nbconvert_exporter": "python",
   "pygments_lexer": "ipython3",
   "version": "3.11.5"
  }
 },
 "nbformat": 4,
 "nbformat_minor": 2
}
